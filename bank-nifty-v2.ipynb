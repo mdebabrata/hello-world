{
 "cells": [
  {
   "cell_type": "code",
   "execution_count": 106,
   "id": "9ce834f1-8b8a-4550-8bd8-a86deada205b",
   "metadata": {},
   "outputs": [],
   "source": [
    "import pandas as pd\n",
    "import numpy as np\n",
    "import pickle"
   ]
  },
  {
   "cell_type": "code",
   "execution_count": 107,
   "id": "ef643571-ca00-4884-a99b-9e06e1f2d84d",
   "metadata": {},
   "outputs": [],
   "source": [
    "# get current strike\n",
    "current_strike = 45152\n",
    "def get_current_strike():\n",
    "    \"\"\" Get current strike price\n",
    "    \"\"\"\n",
    "    return current_strike\n",
    "\n",
    "\n",
    "def get_atm_strike(current_strike:int) -> int :\n",
    "    atm_strike =current_strike - current_strike % -50\n",
    "    #print(atm_strike)\n",
    "    return atm_strike\n",
    "\n"
   ]
  },
  {
   "cell_type": "markdown",
   "id": "1d9ec607-a50c-4c57-b9df-be28ad4a5ae1",
   "metadata": {},
   "source": [
    "## Base Vega - Start of Processing"
   ]
  },
  {
   "cell_type": "code",
   "execution_count": 133,
   "id": "faa8221b-0ab1-48a0-b3f1-dbd29c6d3323",
   "metadata": {},
   "outputs": [],
   "source": [
    "base_filename = \"BANKNIFTY_2023-09-13_option_chain_2023-09-09-07-59-50.csv\""
   ]
  },
  {
   "cell_type": "code",
   "execution_count": 139,
   "id": "fccd4041-6c8a-46c3-88df-2382940941d4",
   "metadata": {},
   "outputs": [
    {
     "name": "stdout",
     "output_type": "stream",
     "text": [
      "Remove base vega pkl\n",
      "45200\n",
      "base vega not present. Save to pkl\n",
      "{'strike': 45152, 'callvega':     strike  putvega  callvega\n",
      "40   45200    21.08     21.08\n",
      "41   45300    20.57     20.57\n",
      "42   45400    19.30     19.30\n",
      "43   45500    17.59     17.59\n",
      "44   45600    15.36     15.36\n",
      "45   45700    13.08     13.08\n",
      "46   45800    10.89     10.89\n",
      "47   45900     8.83      8.83\n",
      "48   46000     7.27      7.27\n",
      "49   46100     6.03      6.03\n",
      "50   46200     4.78      4.78\n",
      "51   46300     4.18      4.18\n",
      "53   46500     3.07      3.07\n",
      "54   46600     2.80      2.80\n",
      "57   46900     1.94      1.94\n",
      "58   47000     1.80      1.80\n",
      "59   47100     1.46      1.46\n",
      "63   47500     1.22      1.22\n",
      "66   48000     0.95      0.95\n",
      "71   50500     0.49      0.49, 'putvega':     strike  putvega  callvega\n",
      "40   45200    21.08     21.08\n",
      "41   45300    20.57     20.57\n",
      "42   45400    19.30     19.30\n",
      "43   45500    17.59     17.59\n",
      "44   45600    15.36     15.36\n",
      "45   45700    13.08     13.08\n",
      "46   45800    10.89     10.89\n",
      "47   45900     8.83      8.83\n",
      "48   46000     7.27      7.27\n",
      "49   46100     6.03      6.03\n",
      "50   46200     4.78      4.78\n",
      "51   46300     4.18      4.18\n",
      "53   46500     3.07      3.07\n",
      "54   46600     2.80      2.80\n",
      "57   46900     1.94      1.94\n",
      "58   47000     1.80      1.80\n",
      "59   47100     1.46      1.46\n",
      "63   47500     1.22      1.22\n",
      "66   48000     0.95      0.95\n",
      "71   50500     0.49      0.49}\n"
     ]
    }
   ],
   "source": [
    "# Read base file\n",
    "if os.path.exists(\"base_vega.pkl\"): \n",
    "    print(\"Remove base vega pkl\")\n",
    "    os.remove(\"base_vega.pkl\")\n",
    "\n",
    "df = pd.read_csv(base_filename)\n",
    "\n",
    "current_strike = get_current_strike()\n",
    "atm_strike = get_atm_strike(current_strike)\n",
    "print(atm_strike)\n",
    "\n",
    "# Change column names to more friendly ones\n",
    "columns = [ x.replace(' ','').lower() for x in df.columns ]\n",
    "df.columns = columns\n",
    "\n",
    "# Remove Missing records\n",
    "df = df[df.putgamma != '--']\n",
    "df = df[df.callgamma != '--']\n",
    "df = df[df.pcr != '--']\n",
    "df = df[df['putpop%'] != '--']\n",
    "\n",
    "#Change column datatypes\n",
    "float_columns = ['putgamma', 'putvega', 'puttheta', 'putdelta', 'pcr', 'putpop%',\n",
    "        'putchange%',  'putbidprice',\n",
    "       'putofferprice', 'putintrinsicvalue(fut)', 'putintrinsicvalue(spot)',\n",
    "       'puttimevalue', 'putltp',  'iv',  'callltp',\n",
    "       'calltimevalue', 'callintrinsicvalue(spot)', 'callintrinsicvalue(fut)',\n",
    "       'callbidprice', 'callofferprice',  'callchange%',\n",
    "        'callpop%', 'calldelta', 'calltheta',\n",
    "       'callvega', 'callgamma']\n",
    "\n",
    "for col in float_columns:\n",
    "    #print(col)\n",
    "    df[col] = df[col].astype(np.float64)\n",
    "\n",
    "df['strike'] = df['strike'].astype(np.int64)\n",
    "\n",
    "df_vega = df[['strike','putvega','callvega']]\n",
    "#df_vega.head()\n",
    "if not os.path.exists(\"base_vega.pkl\"):\n",
    "    print(\"base vega not present. Save to pkl\")\n",
    "    df_vega.to_pickle(\"base_vega.pkl\")\n",
    "else:\n",
    "    print(\"base vega pkl present\")\n",
    "    base_df = pd.read_pickle(\"base_vega.pkl\")\n",
    "\n",
    "base_call_vega_df = df_vega[df_vega['strike'] >= atm_strike]\n",
    "base_put_vega_df = df_vega[df_vega['strike'] <= current_strike]\n",
    "entrylist = [{'strike':current_strike,'callvega':base_call_vega_df, 'putvega':base_call_vega_df}]\n",
    "for entry in entrylist:\n",
    "    print(entry)"
   ]
  },
  {
   "cell_type": "code",
   "execution_count": 135,
   "id": "9ccb03f5-4e77-42aa-9408-b9b2e7733f1f",
   "metadata": {},
   "outputs": [
    {
     "data": {
      "text/html": [
       "<div>\n",
       "<style scoped>\n",
       "    .dataframe tbody tr th:only-of-type {\n",
       "        vertical-align: middle;\n",
       "    }\n",
       "\n",
       "    .dataframe tbody tr th {\n",
       "        vertical-align: top;\n",
       "    }\n",
       "\n",
       "    .dataframe thead th {\n",
       "        text-align: right;\n",
       "    }\n",
       "</style>\n",
       "<table border=\"1\" class=\"dataframe\">\n",
       "  <thead>\n",
       "    <tr style=\"text-align: right;\">\n",
       "      <th></th>\n",
       "      <th>strike</th>\n",
       "      <th>putvega</th>\n",
       "      <th>callvega</th>\n",
       "    </tr>\n",
       "  </thead>\n",
       "  <tbody>\n",
       "    <tr>\n",
       "      <th>0</th>\n",
       "      <td>40500</td>\n",
       "      <td>0.96</td>\n",
       "      <td>0.96</td>\n",
       "    </tr>\n",
       "    <tr>\n",
       "      <th>1</th>\n",
       "      <td>41000</td>\n",
       "      <td>1.14</td>\n",
       "      <td>1.14</td>\n",
       "    </tr>\n",
       "    <tr>\n",
       "      <th>3</th>\n",
       "      <td>41500</td>\n",
       "      <td>1.20</td>\n",
       "      <td>1.20</td>\n",
       "    </tr>\n",
       "    <tr>\n",
       "      <th>7</th>\n",
       "      <td>41900</td>\n",
       "      <td>1.38</td>\n",
       "      <td>1.38</td>\n",
       "    </tr>\n",
       "    <tr>\n",
       "      <th>8</th>\n",
       "      <td>42000</td>\n",
       "      <td>1.42</td>\n",
       "      <td>1.42</td>\n",
       "    </tr>\n",
       "  </tbody>\n",
       "</table>\n",
       "</div>"
      ],
      "text/plain": [
       "   strike  putvega  callvega\n",
       "0   40500     0.96      0.96\n",
       "1   41000     1.14      1.14\n",
       "3   41500     1.20      1.20\n",
       "7   41900     1.38      1.38\n",
       "8   42000     1.42      1.42"
      ]
     },
     "execution_count": 135,
     "metadata": {},
     "output_type": "execute_result"
    }
   ],
   "source": [
    "df_vega.putvega."
   ]
  },
  {
   "cell_type": "markdown",
   "id": "e549d142-1e14-42df-99bf-f39e69fffd28",
   "metadata": {},
   "source": [
    "## Read from base vega"
   ]
  },
  {
   "cell_type": "code",
   "execution_count": 118,
   "id": "09601b68-4e39-4621-ac08-723e73ffc72e",
   "metadata": {},
   "outputs": [
    {
     "name": "stdout",
     "output_type": "stream",
     "text": [
      "base vega pkl present. Read from it..\n"
     ]
    }
   ],
   "source": [
    "if not os.path.exists(\"base_vega.pkl\"):\n",
    "    print(\"base vega not present. Error !!!\")\n",
    "else:\n",
    "    print(\"base vega pkl present. Read from it..\")\n",
    "    base_df = pd.read_pickle(\"base_vega.pkl\")\n",
    "\n",
    "base_call_vega_df = df_vega[df_vega['strike'] >= atm_strike]\n",
    "base_put_vega_df = df_vega[df_vega['strike'] <= current_strike]"
   ]
  },
  {
   "cell_type": "code",
   "execution_count": 119,
   "id": "ba6d72bb-b721-4aa8-b9b8-8a7e2c65a347",
   "metadata": {},
   "outputs": [],
   "source": [
    "base_call_vega = base_call_vega_df.callvega.sum()"
   ]
  },
  {
   "cell_type": "code",
   "execution_count": 120,
   "id": "23924624-f497-4cfc-b5e8-f9b4870fd2d6",
   "metadata": {},
   "outputs": [],
   "source": [
    "base_put_vega = base_put_vega_df.putvega.sum() "
   ]
  },
  {
   "cell_type": "code",
   "execution_count": 122,
   "id": "c930257f-e9d1-4361-8b4a-0c7874addb57",
   "metadata": {},
   "outputs": [
    {
     "name": "stdout",
     "output_type": "stream",
     "text": [
      "Call Vega(start): 162.69000000000003, Put Vega(Start): 218.91999999999996\n"
     ]
    }
   ],
   "source": [
    "print(f\"Call Vega(start): {base_call_vega}, Put Vega(Start): {base_put_vega}\")"
   ]
  },
  {
   "cell_type": "markdown",
   "id": "3470ae65-462a-469b-9142-39c3690eaa79",
   "metadata": {},
   "source": [
    "### Re-run for recent vega"
   ]
  },
  {
   "cell_type": "code",
   "execution_count": 123,
   "id": "d0821c8c-41a5-42d1-a36e-93419f1e8d66",
   "metadata": {},
   "outputs": [],
   "source": [
    "recent_filename = \"BANKNIFTY_2023-09-13_option_chain_2023-09-09-07-59-50.csv\""
   ]
  },
  {
   "cell_type": "code",
   "execution_count": 127,
   "id": "227d2c9a-849d-4706-a4f5-1c49b873638b",
   "metadata": {},
   "outputs": [
    {
     "name": "stdout",
     "output_type": "stream",
     "text": [
      "45200\n",
      "Call Vega(start): 162.69000000000003, Put Vega(Start): 218.91999999999996\n",
      "Call Vega(start): 162.69000000000003, Put Vega(Start): 218.91999999999996\n"
     ]
    }
   ],
   "source": [
    "# Read new file\n",
    "\n",
    "df = pd.read_csv(recent_filename)\n",
    "\n",
    "current_strike = get_current_strike()\n",
    "atm_strike = get_atm_strike(current_strike)\n",
    "print(atm_strike)\n",
    "\n",
    "# Change column names to more friendly ones\n",
    "columns = [ x.replace(' ','').lower() for x in df.columns ]\n",
    "df.columns = columns\n",
    "\n",
    "# Remove Missing records\n",
    "df = df[df.putgamma != '--']\n",
    "df = df[df.callgamma != '--']\n",
    "df = df[df.pcr != '--']\n",
    "df = df[df['putpop%'] != '--']\n",
    "\n",
    "#Change column datatypes\n",
    "float_columns = ['putgamma', 'putvega', 'puttheta', 'putdelta', 'pcr', 'putpop%',\n",
    "        'putchange%',  'putbidprice',\n",
    "       'putofferprice', 'putintrinsicvalue(fut)', 'putintrinsicvalue(spot)',\n",
    "       'puttimevalue', 'putltp',  'iv',  'callltp',\n",
    "       'calltimevalue', 'callintrinsicvalue(spot)', 'callintrinsicvalue(fut)',\n",
    "       'callbidprice', 'callofferprice',  'callchange%',\n",
    "        'callpop%', 'calldelta', 'calltheta',\n",
    "       'callvega', 'callgamma']\n",
    "\n",
    "for col in float_columns:\n",
    "    #print(col)\n",
    "    df[col] = df[col].astype(np.float64)\n",
    "\n",
    "df['strike'] = df['strike'].astype(np.int64)\n",
    "\n",
    "df_vega = df[['strike','putvega','callvega']]\n",
    "df_vega.head()\n",
    "\n",
    "\n",
    "curr_call_vega_df = df_vega[df_vega['strike'] >= atm_strike]\n",
    "curr_put_vega_df = df_vega[df_vega['strike'] <= current_strike]\n",
    "curr_call_vega = curr_call_vega_df.callvega.sum()\n",
    "curr_put_vega = curr_put_vega_df.putvega.sum()\n",
    "print(f\"Call Vega(start): {base_call_vega}, Put Vega(Start): {base_put_vega}\")\n",
    "print(f\"Call Vega(start): {curr_call_vega}, Put Vega(Start): {curr_put_vega}\")\n"
   ]
  },
  {
   "cell_type": "code",
   "execution_count": 131,
   "id": "aff43e01-40a1-4303-8af2-037eb92610ae",
   "metadata": {},
   "outputs": [
    {
     "name": "stdout",
     "output_type": "stream",
     "text": [
      "**** Difference *****\n",
      "Call: 0.0, Put: 0.0 \n"
     ]
    }
   ],
   "source": [
    "print(\"**** Difference *****\")\n",
    "call_diff = base_call_vega - curr_call_vega\n",
    "put_diff = base_put_vega - curr_put_vega\n",
    "print(f\"Call: {call_diff}, Put: {put_diff} \")"
   ]
  },
  {
   "cell_type": "code",
   "execution_count": null,
   "id": "7d50557e-72af-4a09-b341-b3eb5aaee728",
   "metadata": {},
   "outputs": [],
   "source": [
    "entrylist = {'strike':current_strike,'callvega':curr_call_vega, 'putvega':curr_put_vega}"
   ]
  }
 ],
 "metadata": {
  "kernelspec": {
   "display_name": "Python 3",
   "language": "python",
   "name": "python3"
  },
  "language_info": {
   "codemirror_mode": {
    "name": "ipython",
    "version": 3
   },
   "file_extension": ".py",
   "mimetype": "text/x-python",
   "name": "python",
   "nbconvert_exporter": "python",
   "pygments_lexer": "ipython3",
   "version": "3.11.3"
  }
 },
 "nbformat": 4,
 "nbformat_minor": 5
}
