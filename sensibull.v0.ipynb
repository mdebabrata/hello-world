{
 "cells": [
  {
   "cell_type": "code",
   "execution_count": null,
   "id": "621ed686-ce73-48b4-9276-5a91320a5386",
   "metadata": {},
   "outputs": [],
   "source": [
    "import requests\n",
    "from requests import Session \n",
    "import psycopg2 as ps\n",
    "from datetime import datetime\n",
    "import os\n",
    "import pandas as pd\n",
    "import numpy as np\n",
    "\n",
    "SESSION = Session()\n",
    "\n",
    "url = r\"https://oxide.sensibull.com/v1/compute/cache/live_derivative_prices/260105\""
   ]
  },
  {
   "cell_type": "code",
   "execution_count": null,
   "id": "b4ce53eb-cb28-46ef-828d-31ce2f4e63b2",
   "metadata": {},
   "outputs": [],
   "source": [
    "headers = {    \n",
    "    \"accept-language\": \"en-US,en;q=0.6\",\n",
    "    \"cache-control\": \"max-age=0\",\n",
    "    \"if-none-match\": \"28806443-65ac-4600-977b-85461d282747\",\n",
    "    \"User-Agent\":\"Mozilla/5.0 (Windows NT 10.0; Win64; x64) AppleWebKit/537.36 (KHTML, like Gecko) Chrome/118.0.0.0 Safari/537.36\"\n",
    "          }\n",
    "\n",
    "resp = requests.get(url,headers=headers)\n"
   ]
  },
  {
   "cell_type": "code",
   "execution_count": null,
   "id": "4abd2b01-1f73-4b14-a757-89d29c887754",
   "metadata": {},
   "outputs": [],
   "source": [
    "resp = requests.get(\"https://www.google.com\")"
   ]
  },
  {
   "cell_type": "code",
   "execution_count": null,
   "id": "2e8d32f1-4873-48c9-9446-477bff5c3f95",
   "metadata": {},
   "outputs": [],
   "source": [
    "headers = {\n",
    "    \"Accept\": \"*/*\",\n",
    "    \"Accept-Encoding\": \"gzip,deflate,br\",\n",
    "    \"Accept-Language\": \"en-US,en;q=1\",    \n",
    "    \"X-Robinhood-API-Version\": \"1.315.0\",\n",
    "    \"Connection\": \"keep-alive\",\n",
    "    \"User-Agent\": \"Mozilla/5.0 (Windows NT 10.0; Win64; x64) AppleWebKit/537.36 (KHTML, like Gecko) Chrome/118.0.0.0 Safari/537.36\"\n",
    "}\n",
    "cookies ={'access_token':'7hFqynR1Njm6-pjyg_tTgsTntdcOZDydkOpv4MfIfLc','rl_user_id':'RudderEncrypt%3AU2FsdGVkX19MzrUPQfE%2FyBjUqbaVEuqYc9vbSYlTpNuPfm5ssS43T3G9RNaMEA5a0elxsBr3Th4lQx3x0eeK0g%3D%3D'}"
   ]
  },
  {
   "cell_type": "code",
   "execution_count": null,
   "id": "ebb1b0b5-c769-4802-aab4-b89e35de1285",
   "metadata": {},
   "outputs": [],
   "source": [
    "resp = SESSION.get(url,headers=headers,cookies=cookies)"
   ]
  },
  {
   "cell_type": "code",
   "execution_count": null,
   "id": "babdeebf-01fc-4456-86c9-a19a6d2cd65c",
   "metadata": {},
   "outputs": [],
   "source": [
    "resp.status_code"
   ]
  },
  {
   "cell_type": "code",
   "execution_count": null,
   "id": "98938a40-b3d4-4ff2-a2c8-667e3eaac736",
   "metadata": {},
   "outputs": [],
   "source": [
    "json_data = resp.json()['data']"
   ]
  },
  {
   "cell_type": "code",
   "execution_count": null,
   "id": "5d2f5617-c64c-459b-b368-13d56ec568b7",
   "metadata": {},
   "outputs": [],
   "source": [
    "spot_price = json_data['underlying_price']\n",
    "last_updated=json_data['last_updated_at']\n"
   ]
  },
  {
   "cell_type": "code",
   "execution_count": null,
   "id": "d7649a02-7da9-474d-9245-7d2e0ca0d6d7",
   "metadata": {},
   "outputs": [],
   "source": [
    "expiry_list = json_data['per_expiry_data'].keys()"
   ]
  },
  {
   "cell_type": "code",
   "execution_count": null,
   "id": "35038267-5d46-4dd1-a08f-a0bfab3cf2b1",
   "metadata": {},
   "outputs": [],
   "source": [
    "currr_exp_data = json_data  ['per_expiry_data']['2023-10-26']\n",
    "import pandas as pd\n",
    "\n"
   ]
  },
  {
   "cell_type": "code",
   "execution_count": null,
   "id": "467d6e28-a4ce-40d5-b28d-a38f2c9df5df",
   "metadata": {},
   "outputs": [],
   "source": [
    "df"
   ]
  },
  {
   "cell_type": "code",
   "execution_count": null,
   "id": "430045dc-a799-444b-a160-3de2f5e7973c",
   "metadata": {},
   "outputs": [],
   "source": [
    "atm_strike=currr_exp_data['atm_strike']\n",
    "currr_exp_options_data=currr_exp_data['options']"
   ]
  },
  {
   "cell_type": "code",
   "execution_count": null,
   "id": "9320768c-42cb-4e3f-a696-872201b59744",
   "metadata": {},
   "outputs": [],
   "source": []
  },
  {
   "cell_type": "code",
   "execution_count": null,
   "id": "05af2a3d-5d6d-4b4d-948a-eaaf48830b87",
   "metadata": {},
   "outputs": [],
   "source": [
    "del df['liquidity_warnings']"
   ]
  },
  {
   "cell_type": "code",
   "execution_count": null,
   "id": "6b4434d3-213a-45e8-afd9-e95a06a6fded",
   "metadata": {},
   "outputs": [],
   "source": [
    "df.info()"
   ]
  },
  {
   "cell_type": "code",
   "execution_count": null,
   "id": "4079daca-89cc-4a0b-9b30-f1108a6f9491",
   "metadata": {},
   "outputs": [],
   "source": [
    "resp = requests.get(\"https://api.kite.trade/instruments\")"
   ]
  },
  {
   "cell_type": "code",
   "execution_count": null,
   "id": "2757fff0-b01a-437a-b284-9e1bb2f8e78f",
   "metadata": {},
   "outputs": [],
   "source": [
    "with open(\"instruments.csv\",\"w\") as fl:\n",
    "    fl.write(resp.text)\n",
    "del resp"
   ]
  },
  {
   "cell_type": "code",
   "execution_count": null,
   "id": "08441aa2-9d13-49aa-8f7a-eaf89d05ce14",
   "metadata": {},
   "outputs": [],
   "source": [
    "df_instruments = pd.read_csv('instruments.csv')"
   ]
  },
  {
   "cell_type": "code",
   "execution_count": null,
   "id": "1c5c2265-e101-4265-8efe-6c832bb48be5",
   "metadata": {},
   "outputs": [],
   "source": [
    "df_curr_exp_opt_inst = df_instruments[(df_instruments.segment == \"NFO-OPT\") & (df_instruments.expiry == '2023-10-26') & (df_instruments.name == 'BANKNIFTY') ] "
   ]
  },
  {
   "cell_type": "code",
   "execution_count": null,
   "id": "c0924dc5-1a3d-4a90-b081-13019fbf69f4",
   "metadata": {},
   "outputs": [],
   "source": [
    "from datetime import datetime\n",
    "\n",
    "df_curr_exp_opt_inst['updated_at'] = datetime.now()"
   ]
  },
  {
   "cell_type": "code",
   "execution_count": null,
   "id": "a1e9fb61-6521-437b-a51e-5bb91d6f749e",
   "metadata": {},
   "outputs": [],
   "source": [
    "df_curr_exp_opt_inst.to_csv(\"bnf_curr_instruemnts.csv\",index=None,header=None)"
   ]
  },
  {
   "cell_type": "code",
   "execution_count": null,
   "id": "d6eec92d-57d3-49bf-b349-fc6487e4a035",
   "metadata": {},
   "outputs": [],
   "source": [
    "import p"
   ]
  },
  {
   "cell_type": "code",
   "execution_count": null,
   "id": "bba72688-6c31-4773-845f-aacbd2b2343e",
   "metadata": {},
   "outputs": [],
   "source": [
    "import psycopg2 as ps"
   ]
  },
  {
   "cell_type": "code",
   "execution_count": null,
   "id": "4ad7ed3e-2b0c-4bb1-9026-e06c502e4c5d",
   "metadata": {},
   "outputs": [],
   "source": [
    "import psycopg2 as ps\n",
    "conn = ps.connect(host='localhost',\n",
    "                user='postgres',\n",
    "                password ='Google@11',\n",
    "                port=5432,\n",
    "                 database='postgres',options=f'-c search_path=usatrading',\n",
    ")\n"
   ]
  },
  {
   "cell_type": "code",
   "execution_count": null,
   "id": "0c1e3856-0593-4065-8fc4-7aef48b787b8",
   "metadata": {},
   "outputs": [],
   "source": [
    "cur = conn.cursor()\n",
    "with open('bnf_curr_instruemnts.csv', 'r') as f:\n",
    "    # Notice that we don't need the csv module.\n",
    "    try:\n",
    "        cur.copy_from(f, 'instrument_token', sep=',')\n",
    "    except Exception as e:\n",
    "        print(e)\n",
    "    \n",
    "cur.close()\n",
    "conn.commit()\n"
   ]
  },
  {
   "cell_type": "code",
   "execution_count": null,
   "id": "1b4a8288-5711-4288-bb94-fe5598cb67b1",
   "metadata": {},
   "outputs": [],
   "source": [
    "atm_strike"
   ]
  },
  {
   "cell_type": "code",
   "execution_count": null,
   "id": "e7597034-b925-4e60-b7b8-2e6262022d56",
   "metadata": {},
   "outputs": [],
   "source": [
    "df.fillna(0)"
   ]
  },
  {
   "cell_type": "code",
   "execution_count": null,
   "id": "51ef53de-c29c-4caf-aa98-2c21b965f5ee",
   "metadata": {},
   "outputs": [],
   "source": [
    "atm_strike=currr_exp_data['atm_strike']\n",
    "currr_exp_data = json_data  ['per_expiry_data']['2023-10-26']\n",
    "df = pd.json_normalize(currr_exp_options_data)\n",
    "del df['liquidity_warnings']\n",
    "\n",
    "df.insert(loc=0,column='intime',value=datetime.now())\n",
    "df.insert(loc=1,column='spot_price',value=spot_price)\n",
    "df.insert(loc=2,column='atm_strike',value=atm_strike)\n",
    "df.fillna(0, inplace=True)"
   ]
  },
  {
   "cell_type": "code",
   "execution_count": null,
   "id": "6e94f8ab-7d2a-4722-a3da-dff1405d4a96",
   "metadata": {},
   "outputs": [],
   "source": [
    "df"
   ]
  },
  {
   "cell_type": "code",
   "execution_count": null,
   "id": "ddb51685-5a89-4c68-8a3a-5333295915d7",
   "metadata": {},
   "outputs": [],
   "source": [
    "df.to_csv(\"bnf_tick_data.csv\",index=None,header=None)"
   ]
  },
  {
   "cell_type": "code",
   "execution_count": null,
   "id": "595da75f-32fb-461e-ab06-44e772486e42",
   "metadata": {},
   "outputs": [],
   "source": [
    "cur = conn.cursor()\n",
    "with open('bnf_tick_data.csv', 'r') as f:\n",
    "    # Notice that we don't need the csv module.\n",
    "    try:\n",
    "        cur.copy_from(f, 'bnf_tick_data', sep=',')\n",
    "    except Exception as e:\n",
    "        print(e)\n",
    "    \n",
    "cur.close()\n",
    "conn.commit()\n"
   ]
  },
  {
   "cell_type": "code",
   "execution_count": null,
   "id": "8788ee6c-e0b3-4779-aca5-f3a4da1d1a61",
   "metadata": {},
   "outputs": [],
   "source": []
  },
  {
   "cell_type": "code",
   "execution_count": null,
   "id": "c4ac51b4-8b67-4e12-89e2-7923d3cf9de0",
   "metadata": {},
   "outputs": [],
   "source": []
  },
  {
   "cell_type": "code",
   "execution_count": null,
   "id": "b2916911-eb75-4521-9af9-a794d69d7436",
   "metadata": {},
   "outputs": [],
   "source": [
    "df [df.token == 13475074]"
   ]
  },
  {
   "cell_type": "code",
   "execution_count": null,
   "id": "fc60e946-94b5-4735-87c7-fd9f1e662555",
   "metadata": {},
   "outputs": [],
   "source": []
  }
 ],
 "metadata": {
  "kernelspec": {
   "display_name": "Python 3",
   "language": "python",
   "name": "python3"
  },
  "language_info": {
   "codemirror_mode": {
    "name": "ipython",
    "version": 3
   },
   "file_extension": ".py",
   "mimetype": "text/x-python",
   "name": "python",
   "nbconvert_exporter": "python",
   "pygments_lexer": "ipython3",
   "version": "3.11.3"
  }
 },
 "nbformat": 4,
 "nbformat_minor": 5
}
